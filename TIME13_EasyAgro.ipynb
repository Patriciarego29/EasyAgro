{
  "nbformat": 4,
  "nbformat_minor": 0,
  "metadata": {
    "colab": {
      "name": "TIME13-EasyAgro.ipynb",
      "provenance": [],
      "private_outputs": true,
      "authorship_tag": "ABX9TyNVf0GZn7D6zUzn5tmGAL+v",
      "include_colab_link": true
    },
    "kernelspec": {
      "name": "python3",
      "display_name": "Python 3"
    }
  },
  "cells": [
    {
      "cell_type": "markdown",
      "metadata": {
        "id": "view-in-github",
        "colab_type": "text"
      },
      "source": [
        "<a href=\"https://colab.research.google.com/github/Patriciarego29/EasyAgro/blob/master/TIME13_EasyAgro.ipynb\" target=\"_parent\"><img src=\"https://colab.research.google.com/assets/colab-badge.svg\" alt=\"Open In Colab\"/></a>"
      ]
    },
    {
      "cell_type": "markdown",
      "metadata": {
        "id": "wrGUBr2I6Voe",
        "colab_type": "text"
      },
      "source": [
        "**Hackathon Santander Data Challenge**\n",
        "\n",
        "---\n",
        "\n",
        "**PROJETO EASYAGRO**\n",
        "\n",
        "\n",
        "---\n",
        "**Logotipo**\n",
        "![](https://document-export.canva.com/DAEDxMfffis/237/preview/0001-9176596844.png)\n",
        "\n",
        "---\n",
        "\n",
        "\n"
      ]
    },
    {
      "cell_type": "markdown",
      "metadata": {
        "id": "3I_rs6VQ9MMi",
        "colab_type": "text"
      },
      "source": [
        "# Data preparation / ETL (transformações pertinentes)"
      ]
    },
    {
      "cell_type": "markdown",
      "metadata": {
        "id": "JbIy1LzR8uyA",
        "colab_type": "text"
      },
      "source": [
        "#Modelagem / Estudos (Machine Learning ou análises)\n",
        "\n",
        "Link da Analise no Tableau: \n",
        "https://public.tableau.com/profile/otavio.fiori#!/vizhome/ViabilizaodoProjeto/PainelInvestimento?publish=yes\n",
        "\n",
        "\n",
        "Definição de modelo1:\n",
        "![Definição de modelo1](https://cdn.discordapp.com/attachments/738219437114654763/739665612845875310/Definicao_do_Modelo_1.png)\n",
        "Definição de modelo2:\n",
        "![Definição de modelo2](https://cdn.discordapp.com/attachments/738219437114654763/739665624774738050/Definicao_do_Modelo_2.png)\n",
        "Definição de modelo3:\n",
        "![Definição de modelo3](https://cdn.discordapp.com/attachments/738219437114654763/739665626926415882/Definicao_do_Modelo_3.png)\n",
        "Definição do setor:\n",
        "![Definição do setor](https://cdn.discordapp.com/attachments/738219437114654763/739665629975674880/Definicao_do_Setor.png)\n",
        "\n",
        "\n"
      ]
    },
    {
      "cell_type": "markdown",
      "metadata": {
        "id": "gputTHRRB5K3",
        "colab_type": "text"
      },
      "source": [
        ""
      ]
    },
    {
      "cell_type": "markdown",
      "metadata": {
        "id": "q2ANMNHX6xDI",
        "colab_type": "text"
      },
      "source": [
        "#Validação dos resultados (teste, avaliação do modelo, testes de hipótese, etc.)\n",
        "\n",
        "Viabilidade:\n",
        "![](https://cdn.discordapp.com/attachments/738219437114654763/739665630969724948/Viabilizacao_do_Projeto.png)\n",
        "---\n",
        "\n"
      ]
    },
    {
      "cell_type": "markdown",
      "metadata": {
        "id": "swyg9XCeDfTm",
        "colab_type": "text"
      },
      "source": [
        "![](https://cdn.discordapp.com/attachments/736722378998153246/739585256851505172/iupi.png)"
      ]
    }
  ]
}